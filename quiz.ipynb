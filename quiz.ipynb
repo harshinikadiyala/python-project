{
  "nbformat": 4,
  "nbformat_minor": 0,
  "metadata": {
    "colab": {
      "provenance": [],
      "authorship_tag": "ABX9TyPNlXgWQyizXW4XPy2CMQMS",
      "include_colab_link": true
    },
    "kernelspec": {
      "name": "python3",
      "display_name": "Python 3"
    },
    "language_info": {
      "name": "python"
    }
  },
  "cells": [
    {
      "cell_type": "markdown",
      "metadata": {
        "id": "view-in-github",
        "colab_type": "text"
      },
      "source": [
        "<a href=\"https://colab.research.google.com/github/harshinikadiyala/python-project/blob/main/quiz.ipynb\" target=\"_parent\"><img src=\"https://colab.research.google.com/assets/colab-badge.svg\" alt=\"Open In Colab\"/></a>"
      ]
    },
    {
      "cell_type": "code",
      "execution_count": null,
      "metadata": {
        "id": "SPp45EXlBYwA"
      },
      "outputs": [],
      "source": [
        "answer=input(\"When was the first known use of the word 'quiz'? \")\n",
        "if question1=='1781':\n",
        "  print('correct!')\n",
        "else:\n",
        "  print('its a wrong answer')  "
      ]
    },
    {
      "cell_type": "code",
      "source": [
        "\n",
        "QUESTIONS = [\n",
        "    (\"When was the first known use of the word 'quiz'\", \"1781\"),\n",
        "    (\"Which built-in function can get information from the user\", \"input\"),\n",
        "    (\"Which keyword do you use to loop over a given list of elements\", \"for\")\n",
        "]\n",
        "for i in QUESTIONS:\n",
        "  answer=input(i[0])\n",
        "  if answer==i[1]:\n",
        "    print('Correct!')\n",
        "  else:\n",
        "    print('Its an incorrect answer the answer is',i[1])  \n"
      ],
      "metadata": {
        "colab": {
          "base_uri": "https://localhost:8080/"
        },
        "id": "fTHoPUT8fi4I",
        "outputId": "a6571b69-6070-4fc7-feb2-ada995a4f2b4"
      },
      "execution_count": null,
      "outputs": [
        {
          "output_type": "stream",
          "name": "stdout",
          "text": [
            "When was the first known use of the word 'quiz'45\n",
            "Its an incorrect answer the answer is 1781\n",
            "Which built-in function can get information from the userinput\n",
            "Correct!\n",
            "Which keyword do you use to loop over a given list of elementsfor\n",
            "Correct!\n"
          ]
        }
      ]
    },
    {
      "cell_type": "code",
      "source": [
        "QUESTIONS={\"When was the first known use of the word 'quiz'\":['1781','1234','1879','1980'],\n",
        "           \"Which built-in function can get information from the user\":['input','output','exit','entry'],\n",
        "           \"Which keyword do you use to loop over a given list of elements\":['for','while','dowhile','if/else'],\n",
        "           \"What's the purpose of the built-in zip() function\": [\n",
        "              \"To iterate over two or more sequences at the same time\",\n",
        "              \"To combine several strings into one\",\n",
        "              \"To compress several files into one archive\",\n",
        "              \"To get information from the user\",\n",
        "          ],}\n",
        "\n",
        "for ques, optio in QUESTIONS.items():\n",
        "  ans=optio[0]\n",
        "  sorted_na=sorted(optio)\n",
        "  for i,value in enumerate(sorted_na):\n",
        "    print(f\"{i}) {value}\")\n",
        "\n",
        "  answer=input(ques)  \n",
        "  if answer==ans:\n",
        "    print('Correct!')\n",
        "  else:\n",
        "    print('Its an incorrect answer and the answer is',ans)          \n"
      ],
      "metadata": {
        "colab": {
          "base_uri": "https://localhost:8080/"
        },
        "id": "izKOktsEhLgs",
        "outputId": "020992b9-6adc-45ad-c113-7d382169e785"
      },
      "execution_count": null,
      "outputs": [
        {
          "output_type": "stream",
          "name": "stdout",
          "text": [
            "0) 1234\n",
            "1) 1781\n",
            "2) 1879\n",
            "3) 1980\n",
            "When was the first known use of the word 'quiz'1781\n",
            "Correct!\n",
            "0) entry\n",
            "1) exit\n",
            "2) input\n",
            "3) output\n",
            "Which built-in function can get information from the userfef\n",
            "Its an incorrect answer and the answer is input\n",
            "0) dowhile\n",
            "1) for\n",
            "2) if/else\n",
            "3) while\n",
            "Which keyword do you use to loop over a given list of elementsdc\n",
            "Its an incorrect answer and the answer is for\n",
            "0) To combine several strings into one\n",
            "1) To compress several files into one archive\n",
            "2) To get information from the user\n",
            "3) To iterate over two or more sequences at the same time\n",
            "What's the purpose of the built-in zip() functionsfdf\n",
            "Its an incorrect answer and the answer is To iterate over two or more sequences at the same time\n"
          ]
        }
      ]
    },
    {
      "cell_type": "code",
      "source": [
        "from string import ascii_lowercase\n",
        "QUESTIONS={\"When was the first known use of the word 'quiz'\":['1781','1234','1879','1980'],\n",
        "           \"Which built-in function can get information from the user\":['input','output','exit','entry'],\n",
        "           \"Which keyword do you use to loop over a given list of elements\":['for','while','dowhile','if/else'],\n",
        "           \"What's the purpose of the built-in zip() function\": [\n",
        "              \"To iterate over two or more sequences at the same time\",\n",
        "              \"To combine several strings into one\",\n",
        "              \"To compress several files into one archive\",\n",
        "              \"To get information from the user\",\n",
        "          ],}\n",
        "score=0          \n",
        "for num,(question,options) in enumerate(QUESTIONS.items(),start=1):\n",
        "  print(f'\\n{num}. Question:')\n",
        "  print(f'{question}?')\n",
        "  correctans=options[0]\n",
        "  \n",
        "  labels=dict(zip(ascii_lowercase,sorted(options)))\n",
        "  for label,options in labels.items():\n",
        "    print(f'{label}) {options}',end='\\n')\n",
        "  while (answer:=input('\\nChoice ? ')) not in labels:\n",
        "    print(f\"enter the options which are provied only{', '.join(labels)}\") \n",
        "  answer=labels.get(answer)\n",
        "  if answer==correctans:\n",
        "    print(\"*** Correct ***\")\n",
        "    score+=1\n",
        "  else:\n",
        "    print(f\"its a wrong answer \\n the correct anser is {correctans}\")   \n",
        "print(f'You have got {score} out of {num} questions')\n",
        "\n",
        "  #for i,j in enumerate(options):\n",
        "   # print(f'{i}.',end='') \n",
        "    #print(j)\n",
        "           \n"
      ],
      "metadata": {
        "id": "7w2_sQ-qx-gL",
        "colab": {
          "base_uri": "https://localhost:8080/"
        },
        "outputId": "daf82390-e3f5-4c48-99ec-9f23b5b1cd64"
      },
      "execution_count": null,
      "outputs": [
        {
          "output_type": "stream",
          "name": "stdout",
          "text": [
            "\n",
            "1. Question:\n",
            "When was the first known use of the word 'quiz'?\n",
            "a) 1234\n",
            "b) 1781\n",
            "c) 1879\n",
            "d) 1980\n",
            "\n",
            "Choice ? a\n",
            "its a wrong answer \n",
            " the correct anser is 1781\n",
            "\n",
            "2. Question:\n",
            "Which built-in function can get information from the user?\n",
            "a) entry\n",
            "b) exit\n",
            "c) input\n",
            "d) output\n",
            "\n",
            "Choice ? input\n",
            "enter the options which are provied onlya, b, c, d\n",
            "\n",
            "Choice ? c\n",
            "*** Correct ***\n",
            "\n",
            "3. Question:\n",
            "Which keyword do you use to loop over a given list of elements?\n",
            "a) dowhile\n",
            "b) for\n",
            "c) if/else\n",
            "d) while\n",
            "\n",
            "Choice ? b\n",
            "*** Correct ***\n",
            "\n",
            "4. Question:\n",
            "What's the purpose of the built-in zip() function?\n",
            "a) To combine several strings into one\n",
            "b) To compress several files into one archive\n",
            "c) To get information from the user\n",
            "d) To iterate over two or more sequences at the same time\n",
            "\n",
            "Choice ? a\n",
            "its a wrong answer \n",
            " the correct anser is To iterate over two or more sequences at the same time\n",
            "You have got 2 out of 4 questions\n"
          ]
        }
      ]
    },
    {
      "cell_type": "code",
      "source": [
        "import random\n",
        "from string import ascii_lowercase\n",
        "\n",
        "Num_questions=5\n",
        "\n",
        "QUESTIONS = {\n",
        "    \"What's the official name of the := operator\": [\n",
        "        \"Assignment expression\",\n",
        "        \"Named expression\",\n",
        "        \"Walrus operator\",\n",
        "        \"Colon equals operator\",\n",
        "    ],\n",
        "    \"What's one effect of calling random.seed(42)\": [\n",
        "        \"The random numbers are reproducible.\",\n",
        "        \"The random numbers are more random.\",\n",
        "        \"The computer clock is reset.\",\n",
        "        \"The first random number is always 42.\",\n",
        "    ],\n",
        "\n",
        "    \n",
        "\n",
        "    \"Which built-in function can get information from the user\":[\n",
        "        'input','output','exit','entry'],\n",
        "           \"Which keyword do you use to loop over a given list of elements\":['for','while','dowhile','if/else'],\n",
        "           \"What's the purpose of the built-in zip() function\": [\n",
        "              \"To iterate over two or more sequences at the same time\",\n",
        "              \"To combine several strings into one\",\n",
        "              \"To compress several files into one archive\",\n",
        "              \"To get information from the user\"],\n",
        "}\n",
        "\n",
        "num_ques=min(Num_questions,len(QUESTIONS))\n",
        "ques=random.sample(list(QUESTIONS.items()),k=Num_questions)\n",
        "\n",
        "\n",
        "score=0  \n",
        "\n",
        "\n",
        "for num,(question,options) in enumerate(ques,start=1):\n",
        "  print(f'\\n{num}. Question:')\n",
        "  print(f'{question}?')\n",
        "  correctans=options[0]\n",
        "\n",
        "  \n",
        "  \n",
        "  labels=dict(zip(ascii_lowercase,random.sample(options,k=len(options))))\n",
        "\n",
        "\n",
        "  for label,options in labels.items():\n",
        "    print(f'{label}) {options}',end='\\n')\n",
        "  while (answer:=input('\\nChoice ? ')) not in labels:\n",
        "    print(f\"enter the options which are provied only{', '.join(labels)}\") \n",
        "  answer=labels.get(answer)\n",
        "  if answer==correctans:\n",
        "    print(\"*** Correct ***\")\n",
        "    score+=1\n",
        "  else:\n",
        "    print(f\"its a wrong answer \\n the correct anser is {correctans}\")   \n",
        "print(f'You have got {score} out of {num} questions')\n",
        "\n"
      ],
      "metadata": {
        "colab": {
          "base_uri": "https://localhost:8080/"
        },
        "id": "LAc-kpk0S9yY",
        "outputId": "3f95e1b4-5036-465f-c75e-532f09075645"
      },
      "execution_count": null,
      "outputs": [
        {
          "output_type": "stream",
          "name": "stdout",
          "text": [
            "\n",
            "1. Question:\n",
            "What's the purpose of the built-in zip() function?\n",
            "a) To get information from the user\n",
            "b) To combine several strings into one\n",
            "c) To compress several files into one archive\n",
            "d) To iterate over two or more sequences at the same time\n",
            "\n",
            "Choice ? d\n",
            "*** Correct ***\n",
            "\n",
            "2. Question:\n",
            "Which built-in function can get information from the user?\n",
            "a) output\n",
            "b) entry\n",
            "c) input\n",
            "d) exit\n",
            "\n",
            "Choice ? c\n",
            "*** Correct ***\n",
            "\n",
            "3. Question:\n",
            "What's one effect of calling random.seed(42)?\n",
            "a) The computer clock is reset.\n",
            "b) The random numbers are reproducible.\n",
            "c) The first random number is always 42.\n",
            "d) The random numbers are more random.\n",
            "\n",
            "Choice ? d\n",
            "its a wrong answer \n",
            " the correct anser is The random numbers are reproducible.\n",
            "\n",
            "4. Question:\n",
            "Which keyword do you use to loop over a given list of elements?\n",
            "a) if/else\n",
            "b) for\n",
            "c) while\n",
            "d) dowhile\n",
            "\n",
            "Choice ? b\n",
            "*** Correct ***\n",
            "\n",
            "5. Question:\n",
            "What's the official name of the := operator?\n",
            "a) Named expression\n",
            "b) Assignment expression\n",
            "c) Colon equals operator\n",
            "d) Walrus operator\n",
            "\n",
            "Choice ? d\n",
            "its a wrong answer \n",
            " the correct anser is Assignment expression\n",
            "You have got 3 out of 5 questions\n"
          ]
        }
      ]
    },
    {
      "cell_type": "code",
      "source": [
        "def run_quiz():\n",
        "  questions=prepare_questions()\n",
        "\n",
        "  current_score=0\n",
        "  for q in questions:\n",
        "    current_score+=ask_question(q)\n",
        "\n",
        "  print(f\"\\n you have got {current_score} correct\")  "
      ],
      "metadata": {
        "id": "ghb64pzlpPbV"
      },
      "execution_count": null,
      "outputs": []
    },
    {
      "cell_type": "code",
      "source": [
        "def prepare_questions(QUESTIONS,Num_questions):\n",
        "  num_ques=min(Num_questions,len(QUESTIONS))\n",
        "  ques=random.sample(list(QUESTIONS.items()),k=Num_questions)\n",
        "def ask_question(QUESTIONS,options):\n",
        "  correctans=options[0]\n",
        "  "
      ],
      "metadata": {
        "id": "PRwCuPZvxE6t"
      },
      "execution_count": null,
      "outputs": []
    }
  ]
}